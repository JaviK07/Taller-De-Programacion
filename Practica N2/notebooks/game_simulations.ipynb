{
 "cells": [
  {
   "cell_type": "code",
   "execution_count": 5,
   "metadata": {},
   "outputs": [],
   "source": [
    "import sys\n",
    "import os\n",
    "\n",
    "sys.path.append(os.path.abspath('../src')) "
   ]
  },
  {
   "cell_type": "markdown",
   "metadata": {},
   "source": [
    "### Ejercicio 10 \n",
    "Simulacion de partidas y ranking en shooter online"
   ]
  },
  {
   "cell_type": "code",
   "execution_count": 6,
   "metadata": {},
   "outputs": [],
   "source": [
    "import functions"
   ]
  },
  {
   "cell_type": "code",
   "execution_count": 7,
   "metadata": {},
   "outputs": [],
   "source": [
    "# Rondas\n",
    "rounds = [\n",
    "{\n",
    "'Shadow': {'kills': 2, 'assists': 1, 'deaths': True},\n",
    "'Blaze': {'kills': 1, 'assists': 0, 'deaths': False},\n",
    "'Viper': {'kills': 1, 'assists': 2, 'deaths': True},\n",
    "'Frost': {'kills': 0, 'assists': 1, 'deaths': False},\n",
    "'Reaper': {'kills': 1, 'assists': 1, 'deaths': False}\n",
    "},\n",
    "{\n",
    "'Shadow': {'kills': 0, 'assists': 2, 'deaths': False},\n",
    "'Blaze': {'kills': 2, 'assists': 0, 'deaths': True},\n",
    "'Viper': {'kills': 1, 'assists': 1, 'deaths': False},\n",
    "'Frost': {'kills': 2, 'assists': 1, 'deaths': True},\n",
    "'Reaper': {'kills': 0, 'assists': 1, 'deaths': False}\n",
    "},\n",
    "{\n",
    "'Shadow': {'kills': 1, 'assists': 0, 'deaths': False},\n",
    "'Blaze': {'kills': 2, 'assists': 2, 'deaths': True},\n",
    "'Viper': {'kills': 1, 'assists': 1, 'deaths': True},\n",
    "'Frost': {'kills': 0, 'assists': 1, 'deaths': False},\n",
    "'Reaper': {'kills': 1, 'assists': 1, 'deaths': False}\n",
    "},\n",
    "{\n",
    "'Shadow': {'kills': 2, 'assists': 1, 'deaths': False},\n",
    "'Blaze': {'kills': 1, 'assists': 0, 'deaths': True},\n",
    "'Viper': {'kills': 0, 'assists': 2, 'deaths': False},\n",
    "'Frost': {'kills': 1, 'assists': 1, 'deaths': True},\n",
    "'Reaper': {'kills': 1, 'assists': 1, 'deaths': False}\n",
    "},\n",
    "{\n",
    "'Shadow': {'kills': 1, 'assists': 2, 'deaths': True},\n",
    "'Blaze': {'kills': 0, 'assists': 1, 'deaths': False},\n",
    "'Viper': {'kills': 2, 'assists': 0, 'deaths': True},\n",
    "'Frost': {'kills': 1, 'assists': 1, 'deaths': False},\n",
    "'Reaper': {'kills': 1, 'assists': 1, 'deaths': True}\n",
    "}\n",
    "]"
   ]
  },
  {
   "cell_type": "code",
   "execution_count": 8,
   "metadata": {},
   "outputs": [
    {
     "name": "stdout",
     "output_type": "stream",
     "text": [
      "\n",
      "\n",
      "________________________________________________\n",
      "______________ Round Ranking: ______________\n",
      "________________________________________________\n",
      "Player     | Kills | Assists | Deaths | Points  | MVPs\n",
      "-------------------------------------------------------\n",
      "Shadow     | 2     | 1       | 1      | 6       | 1   \n",
      "Viper      | 1     | 2       | 1      | 4       | 0   \n",
      "Reaper     | 1     | 1       | 0      | 4       | 0   \n",
      "Blaze      | 1     | 0       | 0      | 3       | 0   \n",
      "Frost      | 0     | 1       | 0      | 1       | 0   \n",
      "\n",
      "\n",
      "________________________________________________\n",
      "______________ Round Ranking: ______________\n",
      "________________________________________________\n",
      "Player     | Kills | Assists | Deaths | Points  | MVPs\n",
      "-------------------------------------------------------\n",
      "Frost      | 2     | 1       | 1      | 6       | 1   \n",
      "Blaze      | 2     | 0       | 1      | 5       | 0   \n",
      "Viper      | 1     | 1       | 0      | 4       | 0   \n",
      "Shadow     | 0     | 2       | 0      | 2       | 0   \n",
      "Reaper     | 0     | 1       | 0      | 1       | 0   \n",
      "\n",
      "\n",
      "________________________________________________\n",
      "______________ Round Ranking: ______________\n",
      "________________________________________________\n",
      "Player     | Kills | Assists | Deaths | Points  | MVPs\n",
      "-------------------------------------------------------\n",
      "Blaze      | 2     | 2       | 1      | 7       | 1   \n",
      "Reaper     | 1     | 1       | 0      | 4       | 0   \n",
      "Shadow     | 1     | 0       | 0      | 3       | 0   \n",
      "Viper      | 1     | 1       | 1      | 3       | 0   \n",
      "Frost      | 0     | 1       | 0      | 1       | 0   \n",
      "\n",
      "\n",
      "________________________________________________\n",
      "______________ Round Ranking: ______________\n",
      "________________________________________________\n",
      "Player     | Kills | Assists | Deaths | Points  | MVPs\n",
      "-------------------------------------------------------\n",
      "Shadow     | 2     | 1       | 0      | 7       | 1   \n",
      "Reaper     | 1     | 1       | 0      | 4       | 0   \n",
      "Frost      | 1     | 1       | 1      | 3       | 0   \n",
      "Blaze      | 1     | 0       | 1      | 2       | 0   \n",
      "Viper      | 0     | 2       | 0      | 2       | 0   \n",
      "\n",
      "\n",
      "________________________________________________\n",
      "______________ Round Ranking: ______________\n",
      "________________________________________________\n",
      "Player     | Kills | Assists | Deaths | Points  | MVPs\n",
      "-------------------------------------------------------\n",
      "Viper      | 2     | 0       | 1      | 5       | 1   \n",
      "Shadow     | 1     | 2       | 1      | 4       | 0   \n",
      "Frost      | 1     | 1       | 0      | 4       | 0   \n",
      "Reaper     | 1     | 1       | 1      | 3       | 0   \n",
      "Blaze      | 0     | 1       | 0      | 1       | 0   \n",
      "\n",
      "\n",
      "\n",
      "\n",
      "________________________________________________\n",
      "______________ Final Ranking: ______________\n",
      "________________________________________________\n",
      "Player     | Kills | Assists | Deaths | Points  | MVPs\n",
      "-------------------------------------------------------\n",
      "Shadow     | 6     | 6       | 2      | 22      | 2   \n",
      "Blaze      | 6     | 3       | 3      | 18      | 1   \n",
      "Viper      | 5     | 6       | 3      | 18      | 1   \n",
      "Reaper     | 4     | 5       | 1      | 16      | 0   \n",
      "Frost      | 4     | 5       | 2      | 15      | 1   \n"
     ]
    }
   ],
   "source": [
    "functions.dictionary_iteration_and_calculus(rounds)"
   ]
  }
 ],
 "metadata": {
  "kernelspec": {
   "display_name": "Python 3 (ipykernel)",
   "language": "python",
   "name": "python3"
  },
  "language_info": {
   "codemirror_mode": {
    "name": "ipython",
    "version": 3
   },
   "file_extension": ".py",
   "mimetype": "text/x-python",
   "name": "python",
   "nbconvert_exporter": "python",
   "pygments_lexer": "ipython3",
   "version": "3.12.9"
  }
 },
 "nbformat": 4,
 "nbformat_minor": 4
}
